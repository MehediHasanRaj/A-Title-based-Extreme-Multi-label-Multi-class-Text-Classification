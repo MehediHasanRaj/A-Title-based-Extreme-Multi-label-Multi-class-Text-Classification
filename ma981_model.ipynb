{
  "cells": [
    {
      "cell_type": "markdown",
      "metadata": {
        "id": "NCV6INK7Pfgy"
      },
      "source": [
        "# Importing necessary modules"
      ]
    },
    {
      "cell_type": "code",
      "execution_count": null,
      "metadata": {
        "colab": {
          "base_uri": "https://localhost:8080/"
        },
        "id": "mJ7Ag24-PkDp",
        "outputId": "460de136-002a-4ec1-9bb7-0788d56c4c07"
      },
      "outputs": [
        {
          "output_type": "stream",
          "name": "stdout",
          "text": [
            "Mounted at /content/drive\n"
          ]
        },
        {
          "output_type": "stream",
          "name": "stderr",
          "text": [
            "[nltk_data] Downloading package wordnet to /root/nltk_data...\n",
            "[nltk_data] Downloading package omw-1.4 to /root/nltk_data...\n",
            "[nltk_data] Downloading package stopwords to /root/nltk_data...\n",
            "[nltk_data]   Unzipping corpora/stopwords.zip.\n",
            "[nltk_data] Downloading package punkt to /root/nltk_data...\n",
            "[nltk_data]   Unzipping tokenizers/punkt.zip.\n"
          ]
        },
        {
          "output_type": "stream",
          "name": "stdout",
          "text": [
            "Looking in indexes: https://pypi.org/simple, https://us-python.pkg.dev/colab-wheels/public/simple/\n",
            "Requirement already satisfied: pyyaml in /usr/local/lib/python3.7/dist-packages (6.0)\n",
            "Requirement already satisfied: h5py in /usr/local/lib/python3.7/dist-packages (3.1.0)\n",
            "Requirement already satisfied: numpy>=1.14.5 in /usr/local/lib/python3.7/dist-packages (from h5py) (1.21.6)\n",
            "Requirement already satisfied: cached-property in /usr/local/lib/python3.7/dist-packages (from h5py) (1.5.2)\n"
          ]
        }
      ],
      "source": [
        "from google.colab import drive\n",
        "drive.mount('/content/drive')\n",
        "#-------------importing the necessary library for preprocessing and Model---------------\n",
        "\n",
        "import re\n",
        "import pandas as pd\n",
        "from keras_preprocessing.sequence import pad_sequences\n",
        "from keras.preprocessing.text import Tokenizer\n",
        "from nltk.corpus import stopwords\n",
        "from  nltk.tokenize import word_tokenize\n",
        "from sklearn.model_selection import train_test_split\n",
        "from sklearn.preprocessing import MultiLabelBinarizer\n",
        "from sklearn.metrics import f1_score\n",
        "from sklearn.metrics import precision_score\n",
        "from sklearn.metrics import recall_score\n",
        "import nltk\n",
        "import numpy as np\n",
        "import matplotlib.pyplot as plt\n",
        "from nltk.stem import WordNetLemmatizer\n",
        "import keras.backend as K\n",
        "from keras.layers import Conv1D, GlobalMaxPool1D\n",
        "from keras.layers import Dense, Activation, Dropout, Embedding\n",
        "from keras.models import Sequential\n",
        "import tensorflow as tf\n",
        "import keras.layers \n",
        "from keras.layers import Dense, Dropout, Embedding, LSTM, Bidirectional\n",
        "from keras.models import Sequential\n",
        "from keras.layers import Conv1D, GlobalMaxPooling1D\n",
        "from tensorflow.keras.layers import Flatten\n",
        "import tensorflow\n",
        "import os\n",
        "nltk.download('wordnet')\n",
        "nltk.download('omw-1.4')\n",
        "nltk.download('stopwords')\n",
        "nltk.download('punkt')\n",
        "\n",
        "!pip install pyyaml h5py  # Required to save models in HDF5 format"
      ]
    },
    {
      "cell_type": "markdown",
      "metadata": {
        "id": "JKaYiYigQcfw"
      },
      "source": [
        "## Preprocessing title & Labels"
      ]
    },
    {
      "cell_type": "code",
      "execution_count": null,
      "metadata": {
        "id": "cuIUCXU5QCHw"
      },
      "outputs": [],
      "source": [
        "def preprocess_title(title):\n",
        "  lemmatizer = WordNetLemmatizer()\n",
        "  modified_title = re.sub('[^a-zA-Z]',' ',title.lower()) # making the title lower and remove numbers\n",
        "  modified_title = re.sub(r\"\\s+[a-zA-Z]\\s+\",' ',modified_title) # removing the single characters\n",
        "  modified_title = re.sub(r'\\s+',' ',modified_title) # removes multiple spaces\n",
        "  stop_words = set(stopwords.words('english')) # define the stopwords\n",
        "  title_tokens = word_tokenize(modified_title) #tokenize the title\n",
        "  title_processed = [lemmatizer.lemmatize(token) for token in title_tokens if not token in stop_words] # remove stop words and lemmatize the word\n",
        "\n",
        "  return \" \".join(title_processed)\n",
        "\n",
        "def labels_process(df):\n",
        "  df['labels'] = df['labels'].str.split() #label are splitted\n",
        "  multilabel_binarizer = MultiLabelBinarizer()\n",
        "  multilabel_binarizer.fit(df.labels)\n",
        "  labels = multilabel_binarizer.classes_\n",
        "  return multilabel_binarizer,labels"
      ]
    },
    {
      "cell_type": "markdown",
      "source": [
        "dataset link https://drive.google.com/file/d/1ge9vR_2_vKEp9nziSkXMzGIiM6syEvCr/view?usp=share_link"
      ],
      "metadata": {
        "id": "nv6xolzDmDTN"
      }
    },
    {
      "cell_type": "code",
      "execution_count": null,
      "metadata": {
        "id": "6eWaspb3Q9xF"
      },
      "outputs": [],
      "source": [
        "#loading the data from the path\n",
        "path_econbiz = '/content/drive/MyDrive/Datasets/modified1_econbiz.csv'\n",
        "df = pd.read_csv(path_econbiz,usecols=['title'])"
      ]
    },
    {
      "cell_type": "code",
      "execution_count": null,
      "metadata": {
        "id": "JP_r_FeSRBQN"
      },
      "outputs": [],
      "source": [
        "#processing title \n",
        "title = df['title'].apply(preprocess_title)\n",
        "del df # deleting df for free the memory as i have only limited resource"
      ]
    },
    {
      "cell_type": "code",
      "execution_count": null,
      "metadata": {
        "colab": {
          "base_uri": "https://localhost:8080/"
        },
        "id": "rr6_9Tnn6foB",
        "outputId": "088f925d-7550-40f7-e770-6de6be0006e7"
      },
      "outputs": [
        {
          "output_type": "execute_result",
          "data": {
            "text/plain": [
              "0                 water insecurity poor issue research need\n",
              "1         crop biotechnology developing country conceptu...\n",
              "2                   medicaid intergovernmental trend option\n",
              "3         state solvency regulation property casualty li...\n",
              "4                    tax expenditure limit local government\n",
              "                                ...                        \n",
              "502647    investing public pension stock market implicat...\n",
              "502648    still dead year interpreting failure general e...\n",
              "502649    reflection rule science invisible hand perspec...\n",
              "502650    functional explanation economics qualified def...\n",
              "502651    building using economic model case study analy...\n",
              "Name: title, Length: 502652, dtype: object"
            ]
          },
          "metadata": {},
          "execution_count": 5
        }
      ],
      "source": [
        "title"
      ]
    },
    {
      "cell_type": "code",
      "execution_count": null,
      "metadata": {
        "colab": {
          "base_uri": "https://localhost:8080/"
        },
        "id": "X_0UiGnWRQtM",
        "outputId": "641e99e7-b31c-4962-a2dd-ac5990543c8e"
      },
      "outputs": [
        {
          "output_type": "stream",
          "name": "stdout",
          "text": [
            "max lenght of the document : 492\n",
            "total number having more than 100 length 26287\n",
            "parcentage of the ratio having more than 150 lenth 5.229661873423362%\n"
          ]
        }
      ],
      "source": [
        "#           checking the number of title that has more than 160 length\n",
        "#------------------------------------------------------------------------------------------\n",
        "\n",
        "mxlen = 0\n",
        "cnt = 0\n",
        "for i in title:\n",
        "  ln = len(i)\n",
        "  if ln>=100:\n",
        "    cnt = cnt +1\n",
        "  mxlen = max(mxlen,ln)\n",
        "print(f'max lenght of the document : {mxlen}')\n",
        "print(f'total number having more than 100 length {cnt}')\n",
        "print(f'parcentage of the ratio having more than 100 lenth {cnt*100/len(title)}%')"
      ]
    },
    {
      "cell_type": "code",
      "execution_count": null,
      "metadata": {
        "id": "EhTiE-RGSDvU"
      },
      "outputs": [],
      "source": [
        "#       checking the frequency of the words\n",
        "import collections\n",
        "#returns frequency of each word\n",
        "corpus = []\n",
        "for i in title:\n",
        "  for j in i.split():\n",
        "    corpus.append(j)\n",
        "corpus = collections.Counter(corpus)\n",
        "\n"
      ]
    },
    {
      "cell_type": "code",
      "execution_count": null,
      "metadata": {
        "colab": {
          "base_uri": "https://localhost:8080/"
        },
        "id": "M3Q1fYCySUW7",
        "outputId": "66de4a8b-98c6-48e5-ef12-d15448a369c1"
      },
      "outputs": [
        {
          "output_type": "stream",
          "name": "stdout",
          "text": [
            "lenght of new list of words having more than 2 frequency = 20265\n"
          ]
        }
      ],
      "source": [
        "#making a list of words having more than 2 frequncy\n",
        "newlist = []\n",
        "# lessimportant = []\n",
        "for i in corpus.items():\n",
        "  if i[1]>=3:\n",
        "    if len(i[0])>=2:\n",
        "      newlist.append(i[0])\n",
        "    # elif len(i[0])==2:\n",
        "    #   print(i[0])\n",
        "    # elif len(i[0])==2:\n",
        "    #   lessimportant.append(i[0])\n",
        "\n",
        "print(f'lenght of new list of words having more than 2 frequency = {len(newlist)}')"
      ]
    },
    {
      "cell_type": "markdown",
      "metadata": {
        "id": "0tANqEwqS427"
      },
      "source": [
        "# Define the tokenization for vocabulary"
      ]
    },
    {
      "cell_type": "code",
      "execution_count": null,
      "metadata": {
        "id": "EMHvhY6VTKIJ"
      },
      "outputs": [],
      "source": [
        "#defining the tokenizer with 26076 vocabulary\n",
        "tokenizer = Tokenizer()\n",
        "tokenizer.fit_on_texts(newlist)"
      ]
    },
    {
      "cell_type": "code",
      "execution_count": null,
      "metadata": {
        "id": "WG7l3AZ2TNmo"
      },
      "outputs": [],
      "source": [
        "# label binary binarizer of label representation\n",
        "labels = pd.read_csv(path_econbiz,usecols=['labels'])\n",
        "mlb,labels_list = labels_process(labels)"
      ]
    },
    {
      "cell_type": "code",
      "execution_count": null,
      "metadata": {
        "id": "fqOD-5LjTuU3"
      },
      "outputs": [],
      "source": [
        "# this is used for model metrics as we are using the f1 score as a metric \n",
        "def get_f1(y_true, y_pred): \n",
        "    true_positives = K.sum(K.round(K.clip(y_true * y_pred, 0, 1)))\n",
        "    possible_positives = K.sum(K.round(K.clip(y_true, 0, 1)))\n",
        "    predicted_positives = K.sum(K.round(K.clip(y_pred, 0, 1)))\n",
        "    precision = true_positives / (predicted_positives + K.epsilon())\n",
        "    recall = true_positives / (possible_positives + K.epsilon())\n",
        "    f1_val = 2*(precision*recall)/(precision+recall+K.epsilon())\n",
        "    return f1_val\n"
      ]
    },
    {
      "cell_type": "markdown",
      "metadata": {
        "id": "akVj4SwbUD-J"
      },
      "source": [
        "## Model building"
      ]
    },
    {
      "cell_type": "code",
      "execution_count": null,
      "metadata": {
        "id": "x5b6-1EuUDQB",
        "colab": {
          "base_uri": "https://localhost:8080/"
        },
        "outputId": "9ef98a8a-9254-4a52-c116-62fcecb4a0e6"
      },
      "outputs": [
        {
          "output_type": "stream",
          "name": "stdout",
          "text": [
            "CNN model summary------------------------------->\n",
            "Model: \"sequential_2\"\n",
            "_________________________________________________________________\n",
            " Layer (type)                Output Shape              Param #   \n",
            "=================================================================\n",
            " embedding_2 (Embedding)     (None, 100, 300)          6079800   \n",
            "                                                                 \n",
            " conv1d_1 (Conv1D)           (None, 98, 600)           540600    \n",
            "                                                                 \n",
            " global_max_pooling1d_1 (Glo  (None, 600)              0         \n",
            " balMaxPooling1D)                                                \n",
            "                                                                 \n",
            " dense_4 (Dense)             (None, 1024)              615424    \n",
            "                                                                 \n",
            " activation_4 (Activation)   (None, 1024)              0         \n",
            "                                                                 \n",
            " dense_5 (Dense)             (None, 3830)              3925750   \n",
            "                                                                 \n",
            " activation_5 (Activation)   (None, 3830)              0         \n",
            "                                                                 \n",
            "=================================================================\n",
            "Total params: 11,161,574\n",
            "Trainable params: 11,161,574\n",
            "Non-trainable params: 0\n",
            "_________________________________________________________________\n",
            "MLP model summary------------------------------->\n",
            "Model: \"sequential_3\"\n",
            "_________________________________________________________________\n",
            " Layer (type)                Output Shape              Param #   \n",
            "=================================================================\n",
            " embedding_3 (Embedding)     (None, 100, 300)          6079800   \n",
            "                                                                 \n",
            " flatten_1 (Flatten)         (None, 30000)             0         \n",
            "                                                                 \n",
            " dense_6 (Dense)             (None, 1024)              30721024  \n",
            "                                                                 \n",
            " activation_6 (Activation)   (None, 1024)              0         \n",
            "                                                                 \n",
            " dense_7 (Dense)             (None, 3830)              3925750   \n",
            "                                                                 \n",
            " activation_7 (Activation)   (None, 3830)              0         \n",
            "                                                                 \n",
            "=================================================================\n",
            "Total params: 40,726,574\n",
            "Trainable params: 40,726,574\n",
            "Non-trainable params: 0\n",
            "_________________________________________________________________\n"
          ]
        }
      ],
      "source": [
        "def CNN():\n",
        "  model = Sequential()\n",
        "  model.add(Embedding(len(tokenizer.index_word)+1,300,input_length= 100)) #embedding dimension is 150 here\n",
        "  model.add(Conv1D(filters=600,kernel_size=3,padding='valid',activation='relu',strides=1))\n",
        "  model.add(GlobalMaxPooling1D())\n",
        "  model.add(Dense(units=1024))\n",
        "  model.add(Activation('relu'))\n",
        "  model.add(Dense(len(labels_list)))\n",
        "  model.add(Activation('sigmoid'))\n",
        "  model.compile(loss='binary_crossentropy', optimizer=tensorflow.keras.optimizers.Adam(learning_rate=0.001), metrics=[get_f1])\n",
        "  model.summary()\n",
        "  return model\n",
        "\n",
        "def MLP():\n",
        "    model = Sequential()\n",
        "    model.add(Embedding(len(tokenizer.index_word)+1,300,input_length= 100)) #embedding dimension is 150 here\n",
        "    model.add(Flatten())\n",
        "    model.add(Dense(1024))\n",
        "    model.add(Activation('relu'))\n",
        "    model.add(Dense(len(labels_list)))\n",
        "    model.add(Activation('sigmoid'))\n",
        "    model.compile(loss='binary_crossentropy', optimizer=tensorflow.keras.optimizers.Adam(learning_rate=0.001), metrics=[get_f1])\n",
        "    model.summary()\n",
        "    return model\n",
        "print(\"CNN model summary------------------------------->\")\n",
        "model_CNN = CNN()\n",
        "print(\"MLP model summary------------------------------->\")\n",
        "model_MLP = MLP()\n",
        "\n",
        "\n",
        "#deleting the variable to free up the memory\n",
        "del corpus\n",
        "del newlist\n",
        "del labels_list\n",
        "del labels\n",
        "del title\n",
        "  "
      ]
    },
    {
      "cell_type": "markdown",
      "metadata": {
        "id": "O_LpGNr9UYuA"
      },
      "source": [
        "#Train CNN"
      ]
    },
    {
      "cell_type": "code",
      "source": [
        "model_CNN = CNN()"
      ],
      "metadata": {
        "id": "pfXpMwt5JQyq"
      },
      "execution_count": null,
      "outputs": []
    },
    {
      "cell_type": "code",
      "execution_count": null,
      "metadata": {
        "id": "rSBoy0XyUbld",
        "colab": {
          "base_uri": "https://localhost:8080/"
        },
        "outputId": "7fdcb8ad-1771-4171-bb36-bc18a610819a"
      },
      "outputs": [
        {
          "output_type": "stream",
          "name": "stdout",
          "text": [
            "3535/3535 [==============================] - 517s 146ms/step - loss: 0.0077 - get_f1: 0.0891 - val_loss: 0.0045 - val_get_f1: 0.2520\n",
            "1571/1571 [==============================] - 168s 107ms/step\n",
            "f1 score for 0.30 === 0.3221981571503092 and f1 score for 0.2 == 0.35237039050355795 and f1 for 0.25 0.3395633766372874\n",
            "3535/3535 [==============================] - 542s 153ms/step - loss: 0.0039 - get_f1: 0.3448 - val_loss: 0.0036 - val_get_f1: 0.3908\n",
            "1571/1571 [==============================] - 171s 109ms/step\n",
            "f1 score for 0.30 === 0.449572718368659 and f1 score for 0.2 == 0.4596692371954391 and f1 for 0.25 0.4577541259200852\n",
            "3535/3535 [==============================] - 534s 151ms/step - loss: 0.0034 - get_f1: 0.4229 - val_loss: 0.0035 - val_get_f1: 0.4280\n",
            "1571/1571 [==============================] - 173s 110ms/step\n",
            "f1 score for 0.30 === 0.48082980407979087 and f1 score for 0.2 == 0.4840480263403902 and f1 for 0.25 0.4860496240605409\n",
            "3535/3535 [==============================] - 525s 148ms/step - loss: 0.0031 - get_f1: 0.4586 - val_loss: 0.0034 - val_get_f1: 0.4333\n",
            "1571/1571 [==============================] - 174s 111ms/step\n",
            "f1 score for 0.30 === 0.4866335560537976 and f1 score for 0.2 == 0.4921494299410839 and f1 for 0.25 0.49198682000354654\n",
            "3535/3535 [==============================] - 505s 143ms/step - loss: 0.0029 - get_f1: 0.4862 - val_loss: 0.0034 - val_get_f1: 0.4510\n",
            "1571/1571 [==============================] - 152s 97ms/step\n",
            "f1 score for 0.30 === 0.4940223319255506 and f1 score for 0.2 == 0.4949805221144676 and f1 for 0.25 0.49726505927944287\n",
            "3535/3535 [==============================] - 512s 145ms/step - loss: 0.0028 - get_f1: 0.5119 - val_loss: 0.0034 - val_get_f1: 0.4614\n",
            "1571/1571 [==============================] - 164s 105ms/step\n",
            "f1 score for 0.30 === 0.4970906155680647 and f1 score for 0.2 == 0.4928005678441413 and f1 for 0.25 0.4981098518738752\n",
            "3535/3535 [==============================] - 499s 141ms/step - loss: 0.0026 - get_f1: 0.5370 - val_loss: 0.0035 - val_get_f1: 0.4565\n",
            "1571/1571 [==============================] - 167s 106ms/step\n",
            "f1 score for 0.30 === 0.49112644379173404 and f1 score for 0.2 == 0.4880176343707112 and f1 for 0.25 0.4923363767959374\n",
            "dataset part 1, value = 8 and max f1 score is 0.4981098518738752\n"
          ]
        }
      ],
      "source": [
        "\n",
        "best_model_his = 0\n",
        "list_result = []\n",
        "import copy\n",
        "dataset_part = 0\n",
        "max_f1 = -1\n",
        "epoch = 3\n",
        "history_test_f1 = []\n",
        "histry_loss =[]\n",
        "\n",
        "df = pd.read_csv(path_econbiz,usecols=['title','labels'])\n",
        "\n",
        "for i in range(1):\n",
        "  dataset_part = dataset_part + 1\n",
        "  train_x = df['title'].apply(preprocess_title)\n",
        "  test_y = df['labels'].str.split()\n",
        "  del df\n",
        "  i = 0\n",
        "  max_f1 = -1\n",
        "  x_train = tokenizer.texts_to_sequences(train_x)\n",
        "  x_train = pad_sequences(x_train, padding = 'post', maxlen = 100)\n",
        "  y_train = mlb.transform(test_y)\n",
        "  x_train,x_test, y_train, y_test = train_test_split(x_train,y_train,test_size=0.10,random_state = 42)\n",
        "\n",
        "  while i < 7:\n",
        "      best_model_his=model_CNN.fit(x_train,y_train,epochs=1,batch_size=128,verbose=1,validation_data=(x_test,y_test))\n",
        "      list_result.append(best_model_his)\n",
        "      preds = model_CNN.predict(x_test)\n",
        "      preds2 = copy.deepcopy(preds)\n",
        "      preds3 = copy.deepcopy(preds)\n",
        "      preds[preds>=0.30] = 1\n",
        "      preds[preds<0.30]= 0\n",
        "      f1 = f1_score(y_test, preds, average=\"samples\")\n",
        "      max_f1 = max(max_f1,f1)\n",
        "      preds2[preds2>=0.2] = 1\n",
        "      preds2[preds2<0.2]= 0\n",
        "      f11 = f1_score(y_test, preds2, average=\"samples\")\n",
        "      max_f1 = max(max_f1,f11)\n",
        "      preds3[preds3>=0.25] = 1\n",
        "      preds3[preds3<0.25]= 0\n",
        "      f111 = f1_score(y_test, preds3, average=\"samples\")\n",
        "      max_f1 = max(max_f1,f111)\n",
        "      history_test_f1.append([f1,f11,f111])\n",
        "      del preds\n",
        "      del preds2\n",
        "      del preds3\n",
        "      print(f'f1 score for 0.30 === {f1} and f1 score for 0.2 == {f11} and f1 for 0.25 {f111}')\n",
        "      i = i +1\n",
        "  del x_train\n",
        "  del x_test\n",
        "  del y_train\n",
        "  del y_test\n",
        "  print(f'dataset part {dataset_part}, value = {i+1} and max f1 score is {max_f1}')\n",
        "\n"
      ]
    },
    {
      "cell_type": "markdown",
      "source": [
        "### Ploting "
      ],
      "metadata": {
        "id": "ZWAKyQoqA3q0"
      }
    },
    {
      "cell_type": "code",
      "source": [
        "#loss plotting.\n",
        "epoch = []\n",
        "train_loss = []\n",
        "test_loss = []\n",
        "for i in range(6):\n",
        "  epoch.append(i+1)\n",
        "  train_loss.append(list_result[i].history['loss'])\n",
        "  test_loss.append(list_result[i].history['val_loss'])\n",
        "plt.plot(train_loss)\n",
        "plt.plot(test_loss)\n",
        "plt.title('CNN model loss')\n",
        "plt.ylabel('loss')\n",
        "plt.xlabel('epoch')\n",
        "plt.legend(['train', 'test'], loc='upper left')\n",
        "plt.show()\n",
        "  \n"
      ],
      "metadata": {
        "colab": {
          "base_uri": "https://localhost:8080/",
          "height": 295
        },
        "id": "bUyXQdGl-P2t",
        "outputId": "7020b4de-f8df-4578-f88b-bfb4dccd27e4"
      },
      "execution_count": null,
      "outputs": [
        {
          "output_type": "display_data",
          "data": {
            "text/plain": [
              "<Figure size 432x288 with 1 Axes>"
            ],
            "image/png": "[encoded data removed]"
          },
          "metadata": {
            "needs_background": "light"
          }
        }
      ]
    },
    {
      "cell_type": "code",
      "source": [
        "#plotting f1 with different threshold\n",
        "f1_point5= [list_result[i].history['val_get_f1'] for i in range(len(list_result))]\n",
        "f1_point4 = [s[0] for s in history_test_f1]\n",
        "f1_point2 =  [s[1] for s in history_test_f1]\n",
        "f1_point25 =  [s[2] for s in history_test_f1]\n",
        "plt.plot(f1_point5)\n",
        "plt.plot(f1_point4)\n",
        "plt.plot(f1_point2)\n",
        "plt.plot(f1_point25)\n",
        "plt.plot()\n",
        "plt.title('CNN test f1 score with different threshold')\n",
        "plt.ylabel('f1')\n",
        "plt.xlabel('epoch')\n",
        "plt.legend(['default = .50','threshold = .30', 'threshold = .20','threshold = .25'], loc='lower right')\n",
        "plt.show()\n",
        "\n",
        "\n"
      ],
      "metadata": {
        "colab": {
          "base_uri": "https://localhost:8080/",
          "height": 295
        },
        "id": "zbY0c37uBQXz",
        "outputId": "49d56105-22da-4e4c-b1fb-ea671d5d1c3f"
      },
      "execution_count": null,
      "outputs": [
        {
          "output_type": "display_data",
          "data": {
            "text/plain": [
              "<Figure size 432x288 with 1 Axes>"
            ],
            "image/png": "[encoded data removed]"
          },
          "metadata": {
            "needs_background": "light"
          }
        }
      ]
    },
    {
      "cell_type": "code",
      "source": [
        "#ploting training and testing f1 score(with best threshould)\n",
        "traing_f1 = [list_result[i].history['get_f1'] for i in range(len(list_result))]\n",
        "test_f1 =[s[2] for s in history_test_f1] # taking the result with best threshould\n",
        "plt.plot(traing_f1)\n",
        "plt.plot(test_f1)\n",
        "plt.plot()\n",
        "plt.title('CNN Training and test f1 score')\n",
        "plt.ylabel('f1 score')\n",
        "plt.xlabel('epoch')\n",
        "plt.legend(['training','test'], loc='lower right')\n",
        "plt.show()"
      ],
      "metadata": {
        "colab": {
          "base_uri": "https://localhost:8080/",
          "height": 295
        },
        "id": "npLbxGy2E-47",
        "outputId": "9b4eb7d7-fdb7-49e4-e101-e71738da4191"
      },
      "execution_count": null,
      "outputs": [
        {
          "output_type": "display_data",
          "data": {
            "text/plain": [
              "<Figure size 432x288 with 1 Axes>"
            ],
            "image/png": "[encoded data removed]"
          },
          "metadata": {
            "needs_background": "light"
          }
        }
      ]
    },
    {
      "cell_type": "markdown",
      "source": [],
      "metadata": {
        "id": "BcSxOQUp52ir"
      }
    },
    {
      "cell_type": "code",
      "execution_count": null,
      "metadata": {
        "id": "dDD-t5nKqUi1",
        "colab": {
          "base_uri": "https://localhost:8080/"
        },
        "outputId": "435b8e56-0bf1-441d-ef81-2fd99cd2a9d7"
      },
      "outputs": [
        {
          "output_type": "execute_result",
          "data": {
            "text/plain": [
              "[0.3395633766372874,\n",
              " 0.4577541259200852,\n",
              " 0.4860496240605409,\n",
              " 0.49198682000354654,\n",
              " 0.49726505927944287,\n",
              " 0.4981098518738752,\n",
              " 0.4923363767959374]"
            ]
          },
          "metadata": {},
          "execution_count": 19
        }
      ],
      "source": [
        "\n",
        "# best threshould is .25\n",
        "#f1_point25  means f1 value in the test for threshold 0.25. use train each model and take too much time so we make a copy to further use.\n",
        "# [0.3395633766372874,\n",
        "#  0.4577541259200852,\n",
        "#  0.4860496240605409,\n",
        "#  0.49198682000354654,\n",
        "#  0.49726505927944287,\n",
        "#  0.4981098518738752,\n",
        "#  0.4923363767959374]\n",
        "# max f1 score is 0.4981098518738752"
      ]
    },
    {
      "cell_type": "markdown",
      "metadata": {
        "id": "sXsx5CejlbIZ"
      },
      "source": [
        "# Model MLP"
      ]
    },
    {
      "cell_type": "code",
      "execution_count": null,
      "metadata": {
        "colab": {
          "base_uri": "https://localhost:8080/"
        },
        "id": "UWQmmiSxyMT5",
        "outputId": "37737482-73fd-4634-de75-8e32f0da726d"
      },
      "outputs": [
        {
          "output_type": "stream",
          "name": "stdout",
          "text": [
            "Model: \"sequential_3\"\n",
            "_________________________________________________________________\n",
            " Layer (type)                Output Shape              Param #   \n",
            "=================================================================\n",
            " embedding_3 (Embedding)     (None, 100, 300)          6079800   \n",
            "                                                                 \n",
            " flatten_1 (Flatten)         (None, 30000)             0         \n",
            "                                                                 \n",
            " dense_6 (Dense)             (None, 1024)              30721024  \n",
            "                                                                 \n",
            " activation_6 (Activation)   (None, 1024)              0         \n",
            "                                                                 \n",
            " dense_7 (Dense)             (None, 3830)              3925750   \n",
            "                                                                 \n",
            " activation_7 (Activation)   (None, 3830)              0         \n",
            "                                                                 \n",
            "=================================================================\n",
            "Total params: 40,726,574\n",
            "Trainable params: 40,726,574\n",
            "Non-trainable params: 0\n",
            "_________________________________________________________________\n"
          ]
        }
      ],
      "source": [
        "def MLP():\n",
        "    model = Sequential()\n",
        "    model.add(Embedding(len(tokenizer.index_word)+1,300,input_length= 100)) #embedding dimension is 150 here\n",
        "    model.add(Flatten())\n",
        "    model.add(Dense(1024)) #1264\n",
        "    model.add(Activation('relu'))\n",
        "    model.add(Dense(3830))\n",
        "    model.add(Activation('sigmoid'))\n",
        "    model.compile(loss='binary_crossentropy', optimizer=tensorflow.keras.optimizers.Adam(learning_rate=0.001), metrics=[get_f1])\n",
        "    model.summary()\n",
        "    return model\n",
        "model_MLP = MLP()"
      ]
    },
    {
      "cell_type": "code",
      "execution_count": null,
      "metadata": {
        "colab": {
          "base_uri": "https://localhost:8080/"
        },
        "id": "9t_ePq2UXBhf",
        "outputId": "5400986d-3ac0-4976-bcf2-807edbe7136d"
      },
      "outputs": [
        {
          "output_type": "stream",
          "name": "stdout",
          "text": [
            "3535/3535 [==============================] - 530s 150ms/step - loss: 0.0065 - get_f1: 0.1265 - val_loss: 0.0045 - val_get_f1: 0.2659\n",
            "1571/1571 [==============================] - 39s 25ms/step\n",
            "f1 score for 0.30 === 0.32873993560901443 and f1 score for 0.2 == 0.3530924306537513 and f1 for 0.25 0.3434875578270464\n",
            "3535/3535 [==============================] - 536s 152ms/step - loss: 0.0040 - get_f1: 0.3219 - val_loss: 0.0038 - val_get_f1: 0.3677\n",
            "1571/1571 [==============================] - 27s 17ms/step\n",
            "f1 score for 0.30 === 0.42442227763008217 and f1 score for 0.2 == 0.4376025141388453 and f1 for 0.25 0.43464428811479977\n",
            "3535/3535 [==============================] - 521s 147ms/step - loss: 0.0035 - get_f1: 0.3981 - val_loss: 0.0036 - val_get_f1: 0.3957\n",
            "1571/1571 [==============================] - 40s 25ms/step\n",
            "f1 score for 0.30 === 0.45313621213764804 and f1 score for 0.2 == 0.46456275894737864 and f1 for 0.25 0.4622852105708689\n",
            "3535/3535 [==============================] - 527s 149ms/step - loss: 0.0032 - get_f1: 0.4425 - val_loss: 0.0036 - val_get_f1: 0.4189\n",
            "1571/1571 [==============================] - 48s 30ms/step\n",
            "f1 score for 0.30 === 0.4686642089995569 and f1 score for 0.2 == 0.4733092161555807 and f1 for 0.25 0.4735987803052846\n",
            "3535/3535 [==============================] - 534s 151ms/step - loss: 0.0030 - get_f1: 0.4817 - val_loss: 0.0036 - val_get_f1: 0.4303\n",
            "1571/1571 [==============================] - 76s 48ms/step\n",
            "f1 score for 0.30 === 0.47208482448774525 and f1 score for 0.2 == 0.4732483254402799 and f1 for 0.25 0.4755774992339301\n",
            "3535/3535 [==============================] - 533s 151ms/step - loss: 0.0027 - get_f1: 0.5227 - val_loss: 0.0037 - val_get_f1: 0.4367\n",
            "1571/1571 [==============================] - 41s 26ms/step\n",
            "f1 score for 0.30 === 0.46947365599049085 and f1 score for 0.2 == 0.46741469444041395 and f1 for 0.25 0.4713097259130036\n",
            "3535/3535 [==============================] - 523s 148ms/step - loss: 0.0025 - get_f1: 0.5666 - val_loss: 0.0038 - val_get_f1: 0.4359\n",
            "1571/1571 [==============================] - 53s 34ms/step\n",
            "f1 score for 0.30 === 0.4633241968688934 and f1 score for 0.2 == 0.460301828809277 and f1 for 0.25 0.46460912554829903\n",
            "3535/3535 [==============================] - 601s 170ms/step - loss: 0.0022 - get_f1: 0.6128 - val_loss: 0.0040 - val_get_f1: 0.4317\n",
            "1571/1571 [==============================] - 50s 32ms/step\n",
            "f1 score for 0.30 === 0.45381587655661737 and f1 score for 0.2 == 0.44871199794859357 and f1 for 0.25 0.45382667371209495\n",
            "3535/3535 [==============================] - 600s 170ms/step - loss: 0.0020 - get_f1: 0.6589 - val_loss: 0.0043 - val_get_f1: 0.4294\n",
            "1571/1571 [==============================] - 31s 20ms/step\n",
            "f1 score for 0.30 === 0.4459729258620881 and f1 score for 0.2 == 0.43988644018645523 and f1 for 0.25 0.4453193959575987\n",
            "dataset part 1, value = 10 and max f1 score is 0.4755774992339301\n"
          ]
        }
      ],
      "source": [
        "\n",
        "best_model_his = 0\n",
        "list_result = []\n",
        "import copy\n",
        "dataset_part = 0\n",
        "max_f1 = -1\n",
        "epoch = 3\n",
        "history_test_f1 = []\n",
        "history_test_precision =[]\n",
        "history_test_recall = []\n",
        "histry_loss =[]\n",
        "\n",
        "df = pd.read_csv(path_econbiz,usecols=['title','labels'])\n",
        "\n",
        "for i in range(1):\n",
        "  dataset_part = dataset_part + 1\n",
        "\n",
        "  train_x = df['title'].apply(preprocess_title)\n",
        "  test_y = df['labels'].str.split()\n",
        "  del df\n",
        "  i = 0\n",
        "  max_f1 = -1\n",
        "  x_train = tokenizer.texts_to_sequences(train_x)\n",
        "  x_train = pad_sequences(x_train, padding = 'post', maxlen = 100)\n",
        "  y_train = mlb.transform(test_y)\n",
        "  x_train,x_test, y_train, y_test = train_test_split(x_train,y_train,test_size=0.10,random_state = 42)\n",
        "\n",
        "  while i < 9:\n",
        "      best_model_his=model_MLP.fit(x_train,y_train,epochs=1,batch_size=128,verbose=1,validation_data=(x_test,y_test))\n",
        "      list_result.append(best_model_his)\n",
        "      preds = model_MLP.predict(x_test)\n",
        "      preds2 = copy.deepcopy(preds)\n",
        "      preds3 = copy.deepcopy(preds)\n",
        "      preds[preds>=0.30] = 1\n",
        "      preds[preds<0.30]= 0\n",
        "      f1 = f1_score(y_test, preds, average=\"samples\")\n",
        "      max_f1 = max(max_f1,f1)\n",
        "      preds2[preds2>=0.2] = 1\n",
        "      preds2[preds2<0.2]= 0\n",
        "      f11 = f1_score(y_test, preds2, average=\"samples\")\n",
        "      max_f1 = max(max_f1,f11)\n",
        "      preds3[preds3>=0.25] = 1\n",
        "      preds3[preds3<0.25]= 0\n",
        "      f111 = f1_score(y_test, preds3, average=\"samples\")\n",
        "      max_f1 = max(max_f1,f111)\n",
        "      history_test_f1.append([f1,f11,f111])\n",
        "      del preds\n",
        "      del preds2\n",
        "      del preds3\n",
        "      print(f'f1 score for 0.30 === {f1} and f1 score for 0.2 == {f11} and f1 for 0.25 {f111}')\n",
        "      i = i +1\n",
        "  del x_train\n",
        "  del x_test\n",
        "  del y_train\n",
        "  del y_test\n",
        "  print(f'dataset part {dataset_part}, value = {i+1} and max f1 score is {max_f1}')\n",
        "\n"
      ]
    },
    {
      "cell_type": "markdown",
      "source": [
        "## Ploting MLP"
      ],
      "metadata": {
        "id": "zjq2A4veEeS6"
      }
    },
    {
      "cell_type": "code",
      "source": [
        "#loss plotting.\n",
        "epoch = []\n",
        "train_loss = []\n",
        "test_loss = []\n",
        "for i in range(9):\n",
        "  epoch.append(i+1)\n",
        "  train_loss.append(list_result[i].history['loss'])\n",
        "  test_loss.append(list_result[i].history['val_loss'])\n",
        "plt.plot(train_loss[:7])\n",
        "plt.plot(test_loss[:7])\n",
        "plt.title('MLP model loss')\n",
        "plt.ylabel('loss')\n",
        "plt.xlabel('epoch')\n",
        "plt.legend(['train', 'test'], loc='upper left')\n",
        "plt.show()"
      ],
      "metadata": {
        "colab": {
          "base_uri": "https://localhost:8080/",
          "height": 295
        },
        "id": "0Ms-jeaVEkWC",
        "outputId": "fbe29e68-f8c6-4ce2-9433-1045f7773d1f"
      },
      "execution_count": null,
      "outputs": [
        {
          "output_type": "display_data",
          "data": {
            "text/plain": [
              "<Figure size 432x288 with 1 Axes>"
            ],
            "image/png": "[encoded data removed]"
          },
          "metadata": {
            "needs_background": "light"
          }
        }
      ]
    },
    {
      "cell_type": "code",
      "source": [
        "#plotting f1 with different threshold\n",
        "f1_point5= [list_result[i].history['val_get_f1'] for i in range(len(list_result))]\n",
        "f1_point4 = [s[0] for s in history_test_f1]\n",
        "f1_point2 =  [s[1] for s in history_test_f1]\n",
        "f1_point25 =  [s[2] for s in history_test_f1]\n",
        "plt.plot(f1_point5)\n",
        "plt.plot(f1_point4)\n",
        "plt.plot(f1_point2)\n",
        "plt.plot(f1_point25)\n",
        "plt.plot()\n",
        "plt.title('MLP test f1 score with different threshold')\n",
        "plt.ylabel('f1')\n",
        "plt.xlabel('epoch')\n",
        "plt.legend(['default = .50','threshold = .30', 'threshold = .20','threshold = .25'], loc='lower right')\n",
        "plt.show()"
      ],
      "metadata": {
        "colab": {
          "base_uri": "https://localhost:8080/",
          "height": 295
        },
        "id": "Jwtjr6YbE0KB",
        "outputId": "f76fcf5b-374d-4547-f485-de81f293b2cd"
      },
      "execution_count": null,
      "outputs": [
        {
          "output_type": "display_data",
          "data": {
            "text/plain": [
              "<Figure size 432x288 with 1 Axes>"
            ],
            "image/png": "[encoded data removed]"
          },
          "metadata": {
            "needs_background": "light"
          }
        }
      ]
    },
    {
      "cell_type": "code",
      "source": [
        "# best threshould is .25\n",
        "#f1_point25  means f1 value in the test for threshold 0.25. use train each model and take too much time so we make a copy to further use.\n",
        "# [0.3434875578270464,\n",
        "#  0.43464428811479977,\n",
        "#  0.4622852105708689,\n",
        "#  0.4735987803052846,\n",
        "#  0.4755774992339301,\n",
        "#  0.4713097259130036,\n",
        "#  0.46460912554829903,\n",
        "#  0.45382667371209495,\n",
        "#  0.4453193959575987]\n",
        "# max f1 score is 0.4755774992339301"
      ],
      "metadata": {
        "colab": {
          "base_uri": "https://localhost:8080/"
        },
        "id": "rPxQfi6nFcbx",
        "outputId": "915f9615-4656-4529-cad3-32aae1043288"
      },
      "execution_count": null,
      "outputs": [
        {
          "output_type": "execute_result",
          "data": {
            "text/plain": [
              "[0.3434875578270464,\n",
              " 0.43464428811479977,\n",
              " 0.4622852105708689,\n",
              " 0.4735987803052846,\n",
              " 0.4755774992339301,\n",
              " 0.4713097259130036,\n",
              " 0.46460912554829903,\n",
              " 0.45382667371209495,\n",
              " 0.4453193959575987]"
            ]
          },
          "metadata": {},
          "execution_count": 21
        }
      ]
    },
    {
      "cell_type": "code",
      "source": [
        "#ploting training and testing f1 score(with best threshould)\n",
        "traing_f1 = [list_result[i].history['get_f1'] for i in range(len(list_result))]\n",
        "test_f1 =[s[2] for s in history_test_f1] # taking the result with best threshould\n",
        "plt.plot(traing_f1)\n",
        "plt.plot(test_f1)\n",
        "plt.plot()\n",
        "plt.title('MLP Training and test f1 score')\n",
        "plt.ylabel('f1 score')\n",
        "plt.xlabel('epoch')\n",
        "plt.legend(['training','test'], loc='lower right')\n",
        "plt.show()"
      ],
      "metadata": {
        "colab": {
          "base_uri": "https://localhost:8080/",
          "height": 295
        },
        "id": "8405_3eXE0MU",
        "outputId": "e520dd31-3ffe-4347-fa61-e25e0379c5f8"
      },
      "execution_count": null,
      "outputs": [
        {
          "output_type": "display_data",
          "data": {
            "text/plain": [
              "<Figure size 432x288 with 1 Axes>"
            ],
            "image/png": "[encoded data removed]"
          },
          "metadata": {
            "needs_background": "light"
          }
        }
      ]
    },
    {
      "cell_type": "markdown",
      "source": [
        "#GRU Model"
      ],
      "metadata": {
        "id": "dtKwy-rSr33D"
      }
    },
    {
      "cell_type": "code",
      "source": [
        "from tensorflow.keras.layers import GRU\n",
        "def GRU_model():\n",
        "  model = Sequential()\n",
        "  model.add(Embedding(len(tokenizer.index_word)+1,300,input_length= 100))\n",
        "  model.add(Dropout(0.01))\n",
        "  model.add(Bidirectional(GRU(64))) #64\n",
        "  model.add(Dense(600))\n",
        "  model.add(Dropout(0.01)) \n",
        "  model.add(Activation('relu'))\n",
        "  model.add(Dense(3830))\n",
        "  model.add(Activation('sigmoid'))\n",
        "  model.compile(loss='binary_crossentropy',optimizer='adam',metrics=[get_f1])\n",
        "  model.summary()\n",
        "  return model\n",
        "\n",
        "model_GRU = GRU_model()"
      ],
      "metadata": {
        "colab": {
          "base_uri": "https://localhost:8080/"
        },
        "id": "0lG9uUAJr_V7",
        "outputId": "4579833b-3fd4-4480-fddd-f278eb587887"
      },
      "execution_count": null,
      "outputs": [
        {
          "output_type": "stream",
          "name": "stdout",
          "text": [
            "Model: \"sequential\"\n",
            "_________________________________________________________________\n",
            " Layer (type)                Output Shape              Param #   \n",
            "=================================================================\n",
            " embedding (Embedding)       (None, 100, 300)          6079800   \n",
            "                                                                 \n",
            " dropout (Dropout)           (None, 100, 300)          0         \n",
            "                                                                 \n",
            " bidirectional (Bidirectiona  (None, 128)              140544    \n",
            " l)                                                              \n",
            "                                                                 \n",
            " dense (Dense)               (None, 600)               77400     \n",
            "                                                                 \n",
            " dropout_1 (Dropout)         (None, 600)               0         \n",
            "                                                                 \n",
            " activation (Activation)     (None, 600)               0         \n",
            "                                                                 \n",
            " dense_1 (Dense)             (None, 3830)              2301830   \n",
            "                                                                 \n",
            " activation_1 (Activation)   (None, 3830)              0         \n",
            "                                                                 \n",
            "=================================================================\n",
            "Total params: 8,599,574\n",
            "Trainable params: 8,599,574\n",
            "Non-trainable params: 0\n",
            "_________________________________________________________________\n"
          ]
        }
      ]
    },
    {
      "cell_type": "code",
      "source": [
        "best_model_his = 0\n",
        "list_result = []\n",
        "import copy\n",
        "dataset_part = 0\n",
        "max_f1 = -1\n",
        "epoch = 3\n",
        "history_test_f1 = []\n",
        "histry_loss =[]\n",
        "\n",
        "df = pd.read_csv(path_econbiz,usecols=['title','labels'])\n",
        "\n",
        "for i in range(1):\n",
        "  dataset_part = dataset_part + 1\n",
        "  train_x = df['title'].apply(preprocess_title)\n",
        "  test_y = df['labels'].str.split()\n",
        "  del df\n",
        "  i = 0\n",
        "  max_f1 = -1\n",
        "  x_train = tokenizer.texts_to_sequences(train_x)\n",
        "  x_train = pad_sequences(x_train, padding = 'post', maxlen = 100)\n",
        "  y_train = mlb.transform(test_y)\n",
        "  x_train,x_test, y_train, y_test = train_test_split(x_train,y_train,test_size=0.10,random_state = 42)\n",
        "\n",
        "  while i < 12:\n",
        "      best_model_his=model_GRU.fit(x_train,y_train,epochs=1,batch_size=128,verbose=1,validation_data=(x_test,y_test))\n",
        "      list_result.append(best_model_his)\n",
        "      preds = model_GRU.predict(x_test)\n",
        "      preds2 = copy.deepcopy(preds)\n",
        "      preds3 = copy.deepcopy(preds)\n",
        "      preds[preds>=0.30] = 1\n",
        "      preds[preds<0.30]= 0\n",
        "      f1 = f1_score(y_test, preds, average=\"samples\")\n",
        "      max_f1 = max(max_f1,f1)\n",
        "      preds2[preds2>=0.2] = 1\n",
        "      preds2[preds2<0.2]= 0\n",
        "      f11 = f1_score(y_test, preds2, average=\"samples\")\n",
        "      max_f1 = max(max_f1,f11)\n",
        "      preds3[preds3>=0.25] = 1\n",
        "      preds3[preds3<0.25]= 0\n",
        "      f111 = f1_score(y_test, preds3, average=\"samples\")\n",
        "      max_f1 = max(max_f1,f111)\n",
        "      history_test_f1.append([f1,f11,f111])\n",
        "      del preds\n",
        "      del preds2\n",
        "      del preds3\n",
        "      print(f'f1 score for 0.30 === {f1} and f1 score for 0.2 == {f11} and f1 for 0.25 {f111}')\n",
        "      i = i +1\n",
        "  del x_train\n",
        "  del x_test\n",
        "  del y_train\n",
        "  del y_test\n",
        "  print(f'dataset part {dataset_part}, value = {i+1} and max f1 score is {max_f1}')"
      ],
      "metadata": {
        "colab": {
          "base_uri": "https://localhost:8080/"
        },
        "id": "ewu0y_q_tL_l",
        "outputId": "5cbf67f4-2968-470f-8ed9-16ce3d72f4b6"
      },
      "execution_count": null,
      "outputs": [
        {
          "output_type": "stream",
          "name": "stdout",
          "text": [
            "3535/3535 [==============================] - 986s 276ms/step - loss: 0.0090 - get_f1: 0.0370 - val_loss: 0.0053 - val_get_f1: 0.1007\n",
            "1571/1571 [==============================] - 150s 95ms/step\n",
            "f1 score for 0.30 === 0.1578315959761376 and f1 score for 0.2 == 0.20046294253814892 and f1 for 0.25 0.17840925327902196\n",
            "3535/3535 [==============================] - 981s 277ms/step - loss: 0.0045 - get_f1: 0.2097 - val_loss: 0.0041 - val_get_f1: 0.2882\n",
            "1571/1571 [==============================] - 163s 104ms/step\n",
            "f1 score for 0.30 === 0.3685772205770043 and f1 score for 0.2 == 0.3950089059392549 and f1 for 0.25 0.3848906173218248\n",
            "3535/3535 [==============================] - 1035s 293ms/step - loss: 0.0038 - get_f1: 0.3411 - val_loss: 0.0037 - val_get_f1: 0.3660\n",
            "1571/1571 [==============================] - 171s 109ms/step\n",
            "f1 score for 0.30 === 0.43497096854965656 and f1 score for 0.2 == 0.4497602867856647 and f1 for 0.25 0.44595213553471785\n",
            "3535/3535 [==============================] - 990s 280ms/step - loss: 0.0035 - get_f1: 0.3955 - val_loss: 0.0036 - val_get_f1: 0.3884\n",
            "1571/1571 [==============================] - 174s 111ms/step\n",
            "f1 score for 0.30 === 0.45497589546658246 and f1 score for 0.2 == 0.4690441551193938 and f1 for 0.25 0.4656883377764914\n",
            "3535/3535 [==============================] - 990s 280ms/step - loss: 0.0033 - get_f1: 0.4239 - val_loss: 0.0035 - val_get_f1: 0.4146\n",
            "1571/1571 [==============================] - 180s 115ms/step\n",
            "f1 score for 0.30 === 0.4710855996753316 and f1 score for 0.2 == 0.47837604830861014 and f1 for 0.25 0.47809014229315155\n",
            "3535/3535 [==============================] - 1002s 283ms/step - loss: 0.0032 - get_f1: 0.4440 - val_loss: 0.0035 - val_get_f1: 0.4233\n",
            "1571/1571 [==============================] - 168s 107ms/step\n",
            "f1 score for 0.30 === 0.4780350975567867 and f1 score for 0.2 == 0.4832178431192227 and f1 for 0.25 0.4842187043022346\n",
            "3535/3535 [==============================] - 1045s 296ms/step - loss: 0.0031 - get_f1: 0.4588 - val_loss: 0.0035 - val_get_f1: 0.4365\n",
            "1571/1571 [==============================] - 162s 103ms/step\n",
            "f1 score for 0.30 === 0.4823892876712059 and f1 score for 0.2 == 0.4846843582305239 and f1 for 0.25 0.4869398963558118\n",
            "3535/3535 [==============================] - 1044s 295ms/step - loss: 0.0030 - get_f1: 0.4719 - val_loss: 0.0035 - val_get_f1: 0.4386\n",
            "1571/1571 [==============================] - 187s 119ms/step\n",
            "f1 score for 0.30 === 0.4851034291735129 and f1 score for 0.2 == 0.48562966772393984 and f1 for 0.25 0.48815975121997646\n",
            "3535/3535 [==============================] - 1142s 323ms/step - loss: 0.0029 - get_f1: 0.4830 - val_loss: 0.0035 - val_get_f1: 0.4373\n",
            "1571/1571 [==============================] - 194s 123ms/step\n",
            "f1 score for 0.30 === 0.4837009156662328 and f1 score for 0.2 == 0.4851653387823998 and f1 for 0.25 0.4877093819297985\n",
            "3535/3535 [==============================] - 1076s 304ms/step - loss: 0.0028 - get_f1: 0.4938 - val_loss: 0.0035 - val_get_f1: 0.4400\n",
            "1571/1571 [==============================] - 182s 116ms/step\n",
            "f1 score for 0.30 === 0.48414375225064044 and f1 score for 0.2 == 0.4832062472459615 and f1 for 0.25 0.4868254923567659\n",
            "3535/3535 [==============================] - 1092s 309ms/step - loss: 0.0028 - get_f1: 0.5036 - val_loss: 0.0036 - val_get_f1: 0.4414\n",
            "1571/1571 [==============================] - 185s 118ms/step\n",
            "f1 score for 0.30 === 0.4817918802823087 and f1 score for 0.2 == 0.48051567077677887 and f1 for 0.25 0.48454945545491035\n",
            "3535/3535 [==============================] - 1023s 289ms/step - loss: 0.0027 - get_f1: 0.5126 - val_loss: 0.0036 - val_get_f1: 0.4427\n",
            "1571/1571 [==============================] - 171s 109ms/step\n",
            "f1 score for 0.30 === 0.48138276408692154 and f1 score for 0.2 == 0.47871503495879647 and f1 for 0.25 0.4832035983686113\n",
            "dataset part 1, value = 13 and max f1 score is 0.48815975121997646\n"
          ]
        }
      ]
    },
    {
      "cell_type": "code",
      "source": [
        "#loss plotting.\n",
        "epoch = []\n",
        "train_loss = []\n",
        "test_loss = []\n",
        "for i in range(12):\n",
        "  epoch.append(i+1)\n",
        "  train_loss.append(list_result[i].history['loss'])\n",
        "  test_loss.append(list_result[i].history['val_loss'])\n",
        "plt.plot(train_loss)\n",
        "plt.plot(test_loss)\n",
        "plt.title('GRU model loss')\n",
        "plt.ylabel('loss')\n",
        "plt.xlabel('epoch')\n",
        "plt.legend(['train', 'test'], loc='upper left')\n",
        "plt.show()"
      ],
      "metadata": {
        "id": "tyiXiI79tBJd",
        "colab": {
          "base_uri": "https://localhost:8080/",
          "height": 295
        },
        "outputId": "2835905d-2de7-42f3-87f2-822be9c4431a"
      },
      "execution_count": null,
      "outputs": [
        {
          "output_type": "display_data",
          "data": {
            "text/plain": [
              "<Figure size 432x288 with 1 Axes>"
            ],
            "image/png": "[encoded data removed]"
          },
          "metadata": {
            "needs_background": "light"
          }
        }
      ]
    },
    {
      "cell_type": "code",
      "source": [
        "f1_point5= [list_result[i].history['val_get_f1'] for i in range(len(list_result))]\n",
        "f1_point4 = [s[0] for s in history_test_f1]\n",
        "f1_point2 =  [s[1] for s in history_test_f1]\n",
        "f1_point25 =  [s[2] for s in history_test_f1]\n",
        "plt.plot(f1_point5)\n",
        "plt.plot(f1_point4)\n",
        "plt.plot(f1_point2)\n",
        "plt.plot(f1_point25)\n",
        "plt.plot()\n",
        "plt.title('GRU test f1 score with different threshold')\n",
        "plt.ylabel('f1')\n",
        "plt.xlabel('epoch')\n",
        "plt.legend(['default = .50','threshold = .30', 'threshold = .20','threshold = .25'], loc='lower right')\n",
        "plt.show()"
      ],
      "metadata": {
        "colab": {
          "base_uri": "https://localhost:8080/",
          "height": 295
        },
        "id": "FCTKqMztvU2O",
        "outputId": "d71be59e-c311-4a27-9d70-aa85599e8dd4"
      },
      "execution_count": null,
      "outputs": [
        {
          "output_type": "display_data",
          "data": {
            "text/plain": [
              "<Figure size 432x288 with 1 Axes>"
            ],
            "image/png": "[encoded data removed]"
          },
          "metadata": {
            "needs_background": "light"
          }
        }
      ]
    },
    {
      "cell_type": "code",
      "source": [
        "f1_point25\n",
        "# best threshould is .25\n",
        "#f1_point25  means f1 value in the test for threshold 0.25. use train each model and take too much time so we make a copy to further use.\n",
        "# [0.17840925327902196,\n",
        "#  0.3848906173218248,\n",
        "#  0.44595213553471785,\n",
        "#  0.4656883377764914,\n",
        "#  0.47809014229315155,\n",
        "#  0.4842187043022346,\n",
        "#  0.4869398963558118,\n",
        "#  0.48815975121997646,\n",
        "#  0.4877093819297985,\n",
        "#  0.4868254923567659,\n",
        "#  0.48454945545491035,\n",
        "#  0.4832035983686113]\n",
        "# max f1 score is 0.48815975121997646"
      ],
      "metadata": {
        "colab": {
          "base_uri": "https://localhost:8080/"
        },
        "id": "up2NbclSvdQw",
        "outputId": "dc0b9224-cecb-481a-f95e-097959b406cb"
      },
      "execution_count": null,
      "outputs": [
        {
          "output_type": "execute_result",
          "data": {
            "text/plain": [
              "[0.17840925327902196,\n",
              " 0.3848906173218248,\n",
              " 0.44595213553471785,\n",
              " 0.4656883377764914,\n",
              " 0.47809014229315155,\n",
              " 0.4842187043022346,\n",
              " 0.4869398963558118,\n",
              " 0.48815975121997646,\n",
              " 0.4877093819297985,\n",
              " 0.4868254923567659,\n",
              " 0.48454945545491035,\n",
              " 0.4832035983686113]"
            ]
          },
          "metadata": {},
          "execution_count": 16
        }
      ]
    },
    {
      "cell_type": "code",
      "source": [
        "#ploting training and testing f1 score(with best threshould)\n",
        "traing_f1 = [list_result[i].history['get_f1'] for i in range(len(list_result))]\n",
        "test_f1 =[s[2] for s in history_test_f1] # taking the result with best threshould\n",
        "plt.plot(traing_f1)\n",
        "plt.plot(test_f1)\n",
        "plt.plot()\n",
        "plt.title('GRU Training and test f1 score')\n",
        "plt.ylabel('f1 score')\n",
        "plt.xlabel('epoch')\n",
        "plt.legend(['training','test'], loc='lower right')\n",
        "plt.show()"
      ],
      "metadata": {
        "colab": {
          "base_uri": "https://localhost:8080/",
          "height": 295
        },
        "id": "dPHc910TvgQn",
        "outputId": "020f0c80-fc55-4242-dfe3-8a7381fb758c"
      },
      "execution_count": null,
      "outputs": [
        {
          "output_type": "display_data",
          "data": {
            "text/plain": [
              "<Figure size 432x288 with 1 Axes>"
            ],
            "image/png": "[encoded data removed]"
          },
          "metadata": {
            "needs_background": "light"
          }
        }
      ]
    },
    {
      "cell_type": "markdown",
      "source": [
        "# LSTM Model"
      ],
      "metadata": {
        "id": "GmMGKtfjGclH"
      }
    },
    {
      "cell_type": "code",
      "execution_count": null,
      "metadata": {
        "id": "CeTGq_dDRKUF",
        "colab": {
          "base_uri": "https://localhost:8080/"
        },
        "outputId": "fcc4cdbe-04b8-41ac-a136-73b2ff306dbf"
      },
      "outputs": [
        {
          "output_type": "stream",
          "name": "stdout",
          "text": [
            "Model: \"sequential_5\"\n",
            "_________________________________________________________________\n",
            " Layer (type)                Output Shape              Param #   \n",
            "=================================================================\n",
            " embedding_5 (Embedding)     (None, 100, 300)          6079800   \n",
            "                                                                 \n",
            " dropout_1 (Dropout)         (None, 100, 300)          0         \n",
            "                                                                 \n",
            " bidirectional (Bidirectiona  (None, 128)              186880    \n",
            " l)                                                              \n",
            "                                                                 \n",
            " dense_8 (Dense)             (None, 600)               77400     \n",
            "                                                                 \n",
            " dropout_2 (Dropout)         (None, 600)               0         \n",
            "                                                                 \n",
            " activation_8 (Activation)   (None, 600)               0         \n",
            "                                                                 \n",
            " dense_9 (Dense)             (None, 3830)              2301830   \n",
            "                                                                 \n",
            " activation_9 (Activation)   (None, 3830)              0         \n",
            "                                                                 \n",
            "=================================================================\n",
            "Total params: 8,645,910\n",
            "Trainable params: 8,645,910\n",
            "Non-trainable params: 0\n",
            "_________________________________________________________________\n"
          ]
        }
      ],
      "source": [
        "from tensorflow.keras.layers import LSTM\n",
        "def LSTM_model():\n",
        "  model = Sequential()\n",
        "  model.add(Embedding(len(tokenizer.index_word)+1,300,input_length= 100))\n",
        "  model.add(Dropout(0.01))\n",
        "  model.add(Bidirectional(LSTM(64))) #64\n",
        "  model.add(Dense(600))\n",
        "  model.add(Dropout(0.01)) \n",
        "  model.add(Activation('relu'))\n",
        "  model.add(Dense(3830))\n",
        "  model.add(Activation('sigmoid'))\n",
        "  model.compile(loss='binary_crossentropy',optimizer='adam',metrics=[get_f1])\n",
        "  model.summary()\n",
        "  return model\n",
        "\n",
        "model_LSTM = LSTM_model()"
      ]
    },
    {
      "cell_type": "code",
      "execution_count": null,
      "metadata": {
        "id": "kiZ6UqcKTV6o",
        "colab": {
          "base_uri": "https://localhost:8080/"
        },
        "outputId": "8a0c45e5-75c7-4caf-ae0e-784966633ac0"
      },
      "outputs": [
        {
          "output_type": "stream",
          "name": "stdout",
          "text": [
            "3535/3535 [==============================] - 1191s 335ms/step - loss: 0.0090 - get_f1: 7.6518e-04 - val_loss: 0.0063 - val_get_f1: 0.0370\n",
            "1571/1571 [==============================] - 192s 122ms/step\n",
            "f1 score for 0.30 === 0.08033793282751181 and f1 score for 0.2 == 0.11476449710892475 and f1 for 0.25 0.09939882618862798\n",
            "3535/3535 [==============================] - 1196s 338ms/step - loss: 0.0053 - get_f1: 0.1053 - val_loss: 0.0046 - val_get_f1: 0.1867\n",
            "1571/1571 [==============================] - 190s 121ms/step\n",
            "f1 score for 0.30 === 0.26751966567566304 and f1 score for 0.2 == 0.30556239865124646 and f1 for 0.25 0.2883086795031518\n",
            "3535/3535 [==============================] - 1211s 343ms/step - loss: 0.0042 - get_f1: 0.2567 - val_loss: 0.0039 - val_get_f1: 0.3174\n",
            "1571/1571 [==============================] - 207s 132ms/step\n",
            "f1 score for 0.30 === 0.39317872741308746 and f1 score for 0.2 == 0.41332837570709496 and f1 for 0.25 0.40676217020866046\n",
            "3535/3535 [==============================] - 1199s 339ms/step - loss: 0.0037 - get_f1: 0.3500 - val_loss: 0.0037 - val_get_f1: 0.3672\n",
            "1571/1571 [==============================] - 198s 126ms/step\n",
            "f1 score for 0.30 === 0.43514073038143375 and f1 score for 0.2 == 0.4490560911124742 and f1 for 0.25 0.44571897495191243\n",
            "3535/3535 [==============================] - 1204s 341ms/step - loss: 0.0035 - get_f1: 0.3935 - val_loss: 0.0036 - val_get_f1: 0.3920\n",
            "1571/1571 [==============================] - 187s 119ms/step\n",
            "f1 score for 0.30 === 0.4563553152304217 and f1 score for 0.2 == 0.4667320707999839 and f1 for 0.25 0.46505950545173497\n",
            "3535/3535 [==============================] - 1181s 334ms/step - loss: 0.0033 - get_f1: 0.4200 - val_loss: 0.0035 - val_get_f1: 0.4047\n",
            "1571/1571 [==============================] - 176s 112ms/step\n",
            "f1 score for 0.30 === 0.4656902197907343 and f1 score for 0.2 == 0.4754645551402216 and f1 for 0.25 0.4737860518356896\n",
            "3535/3535 [==============================] - 1255s 355ms/step - loss: 0.0032 - get_f1: 0.4387 - val_loss: 0.0035 - val_get_f1: 0.4143\n",
            "1571/1571 [==============================] - 179s 114ms/step\n",
            "f1 score for 0.30 === 0.4717533007512175 and f1 score for 0.2 == 0.47854670247506426 and f1 for 0.25 0.4785761329376141\n",
            "3535/3535 [==============================] - 1194s 338ms/step - loss: 0.0031 - get_f1: 0.4537 - val_loss: 0.0035 - val_get_f1: 0.4249\n",
            "1571/1571 [==============================] - 180s 114ms/step\n",
            "f1 score for 0.30 === 0.47618667797854003 and f1 score for 0.2 == 0.47986267284729106 and f1 for 0.25 0.4819404084156997\n",
            "3535/3535 [==============================] - 1243s 352ms/step - loss: 0.0030 - get_f1: 0.4669 - val_loss: 0.0035 - val_get_f1: 0.4346\n",
            "1571/1571 [==============================] - 176s 112ms/step\n",
            "f1 score for 0.30 === 0.4797666600130587 and f1 score for 0.2 == 0.4813084016717504 and f1 for 0.25 0.4842786587426964\n",
            "3535/3535 [==============================] - 1203s 340ms/step - loss: 0.0029 - get_f1: 0.4779 - val_loss: 0.0035 - val_get_f1: 0.4327\n",
            "1571/1571 [==============================] - 178s 113ms/step\n",
            "f1 score for 0.30 === 0.480451239911128 and f1 score for 0.2 == 0.4811482736717426 and f1 for 0.25 0.48423148085725026\n",
            "3535/3535 [==============================] - 1193s 338ms/step - loss: 0.0029 - get_f1: 0.4882 - val_loss: 0.0035 - val_get_f1: 0.4351\n",
            "1571/1571 [==============================] - 182s 116ms/step\n",
            "f1 score for 0.30 === 0.4801978571517961 and f1 score for 0.2 == 0.4806492681386181 and f1 for 0.25 0.4836926210110083\n",
            "3535/3535 [==============================] - 1261s 357ms/step - loss: 0.0028 - get_f1: 0.4984 - val_loss: 0.0036 - val_get_f1: 0.4388\n",
            "1571/1571 [==============================] - 176s 112ms/step\n",
            "f1 score for 0.30 === 0.48062171625403877 and f1 score for 0.2 == 0.47932896265601366 and f1 for 0.25 0.4832462287849158\n",
            "dataset part 1, value = 13 and max f1 score is 0.4842786587426964\n"
          ]
        }
      ],
      "source": [
        "best_model_his = 0\n",
        "list_result = []\n",
        "import copy\n",
        "dataset_part = 0\n",
        "max_f1 = -1\n",
        "epoch = 3\n",
        "history_test_f1 = []\n",
        "histry_loss =[]\n",
        "# data_chunk = pd.read_csv(path_econbiz,chunksize=167551,usecols=['title','labels'])\n",
        "df = pd.read_csv(path_econbiz,usecols=['title','labels'])\n",
        "\n",
        "for i in range(1):\n",
        "  dataset_part = dataset_part + 1\n",
        "  train_x = df['title'].apply(preprocess_title)\n",
        "  test_y = df['labels'].str.split()\n",
        "  del df\n",
        "  i = 0\n",
        "  max_f1 = -1\n",
        "  x_train = tokenizer.texts_to_sequences(train_x)\n",
        "  x_train = pad_sequences(x_train, padding = 'post', maxlen = 100)\n",
        "  y_train = mlb.transform(test_y)\n",
        "  x_train,x_test, y_train, y_test = train_test_split(x_train,y_train,test_size=0.10,random_state = 42)\n",
        "\n",
        "  while i < 12:\n",
        "      best_model_his=model_LSTM.fit(x_train,y_train,epochs=1,batch_size=128,verbose=1,validation_data=(x_test,y_test))\n",
        "      list_result.append(best_model_his)\n",
        "      preds = model_LSTM.predict(x_test)\n",
        "      preds2 = copy.deepcopy(preds)\n",
        "      preds3 = copy.deepcopy(preds)\n",
        "      preds[preds>=0.30] = 1\n",
        "      preds[preds<0.30]= 0\n",
        "      f1 = f1_score(y_test, preds, average=\"samples\")\n",
        "      max_f1 = max(max_f1,f1)\n",
        "      preds2[preds2>=0.2] = 1\n",
        "      preds2[preds2<0.2]= 0\n",
        "      f11 = f1_score(y_test, preds2, average=\"samples\")\n",
        "      max_f1 = max(max_f1,f11)\n",
        "      preds3[preds3>=0.25] = 1\n",
        "      preds3[preds3<0.25]= 0\n",
        "      f111 = f1_score(y_test, preds3, average=\"samples\")\n",
        "      max_f1 = max(max_f1,f111)\n",
        "      history_test_f1.append([f1,f11,f111])\n",
        "      del preds\n",
        "      del preds2\n",
        "      del preds3\n",
        "      print(f'f1 score for 0.30 === {f1} and f1 score for 0.2 == {f11} and f1 for 0.25 {f111}')\n",
        "      i = i +1\n",
        "  del x_train\n",
        "  del x_test\n",
        "  del y_train\n",
        "  del y_test\n",
        "  print(f'dataset part {dataset_part}, value = {i+1} and max f1 score is {max_f1}')"
      ]
    },
    {
      "cell_type": "code",
      "source": [
        "#loss plotting.\n",
        "epoch = []\n",
        "train_loss = []\n",
        "test_loss = []\n",
        "for i in range(12):\n",
        "  epoch.append(i+1)\n",
        "  train_loss.append(list_result[i].history['loss'])\n",
        "  test_loss.append(list_result[i].history['val_loss'])\n",
        "plt.plot(train_loss)\n",
        "plt.plot(test_loss)\n",
        "plt.title('LSTM model loss')\n",
        "plt.ylabel('loss')\n",
        "plt.xlabel('epoch')\n",
        "plt.legend(['train', 'test'], loc='upper left')\n",
        "plt.show()"
      ],
      "metadata": {
        "id": "qbI6uZPfVHvs",
        "colab": {
          "base_uri": "https://localhost:8080/",
          "height": 295
        },
        "outputId": "d846d74b-4e0c-421d-9849-852f75d38da2"
      },
      "execution_count": null,
      "outputs": [
        {
          "output_type": "display_data",
          "data": {
            "text/plain": [
              "<Figure size 432x288 with 1 Axes>"
            ],
            "image/png": "[encoded data removed]"
          },
          "metadata": {
            "needs_background": "light"
          }
        }
      ]
    },
    {
      "cell_type": "code",
      "source": [
        "f1_point5= [list_result[i].history['val_get_f1'] for i in range(len(list_result))]\n",
        "f1_point4 = [s[0] for s in history_test_f1]\n",
        "f1_point2 =  [s[1] for s in history_test_f1]\n",
        "f1_point25 =  [s[2] for s in history_test_f1]\n",
        "plt.plot(f1_point5)\n",
        "plt.plot(f1_point4)\n",
        "plt.plot(f1_point2)\n",
        "plt.plot(f1_point25)\n",
        "plt.plot()\n",
        "plt.title('LSTM test f1 score with different threshold')\n",
        "plt.ylabel('f1')\n",
        "plt.xlabel('epoch')\n",
        "plt.legend(['default = .50','threshold = .30', 'threshold = .20','threshold = .25'], loc='lower right')\n",
        "plt.show()"
      ],
      "metadata": {
        "id": "3EjMdejwVH6X",
        "colab": {
          "base_uri": "https://localhost:8080/",
          "height": 295
        },
        "outputId": "ddc56989-2cdb-421d-d568-8e115aeebe24"
      },
      "execution_count": null,
      "outputs": [
        {
          "output_type": "display_data",
          "data": {
            "text/plain": [
              "<Figure size 432x288 with 1 Axes>"
            ],
            "image/png": "[encoded data removed]"
          },
          "metadata": {
            "needs_background": "light"
          }
        }
      ]
    },
    {
      "cell_type": "code",
      "source": [
        "f1_point25\n",
        "# best threshould is .25\n",
        "#f1_point25  means f1 value in the test for threshold 0.25. use train each model and take too much time so we make a copy to further use.\n",
        "[0.09939882618862798,\n",
        " 0.2883086795031518,\n",
        " 0.40676217020866046,\n",
        " 0.44571897495191243,\n",
        " 0.46505950545173497,\n",
        " 0.4737860518356896,\n",
        " 0.4785761329376141,\n",
        " 0.4819404084156997,\n",
        " 0.4842786587426964,\n",
        " 0.48423148085725026,\n",
        " 0.4836926210110083,\n",
        " 0.4832462287849158]\n",
        "# max f1 score is 0.48423148085725026"
      ],
      "metadata": {
        "id": "5Lt7-p-vVIB8",
        "colab": {
          "base_uri": "https://localhost:8080/"
        },
        "outputId": "ff73170c-11b2-4046-b1f0-db7998f2dbae"
      },
      "execution_count": null,
      "outputs": [
        {
          "output_type": "execute_result",
          "data": {
            "text/plain": [
              "[0.09939882618862798,\n",
              " 0.2883086795031518,\n",
              " 0.40676217020866046,\n",
              " 0.44571897495191243,\n",
              " 0.46505950545173497,\n",
              " 0.4737860518356896,\n",
              " 0.4785761329376141,\n",
              " 0.4819404084156997,\n",
              " 0.4842786587426964,\n",
              " 0.48423148085725026,\n",
              " 0.4836926210110083,\n",
              " 0.4832462287849158]"
            ]
          },
          "metadata": {},
          "execution_count": 19
        }
      ]
    },
    {
      "cell_type": "code",
      "source": [
        "#ploting training and testing f1 score(with best threshould)\n",
        "traing_f1 = [list_result[i].history['get_f1'] for i in range(len(list_result))]\n",
        "test_f1 =[s[2] for s in history_test_f1] # taking the result with best threshould\n",
        "plt.plot(traing_f1)\n",
        "plt.plot(test_f1)\n",
        "plt.plot()\n",
        "plt.title('LSTM Training and test f1 score')\n",
        "plt.ylabel('f1 score')\n",
        "plt.xlabel('epoch')\n",
        "plt.legend(['training','test'], loc='lower right')\n",
        "plt.show()"
      ],
      "metadata": {
        "id": "lg-qdc3VVII1",
        "colab": {
          "base_uri": "https://localhost:8080/",
          "height": 295
        },
        "outputId": "50644d1b-37b0-4e6f-887c-c867f2f8362d"
      },
      "execution_count": null,
      "outputs": [
        {
          "output_type": "display_data",
          "data": {
            "text/plain": [
              "<Figure size 432x288 with 1 Axes>"
            ],
            "image/png": "[encoded data removed]"
          },
          "metadata": {
            "needs_background": "light"
          }
        }
      ]
    },
    {
      "cell_type": "markdown",
      "metadata": {
        "id": "Ak_rTKRV0FpA"
      },
      "source": [
        "# Result Compare Graph\n"
      ]
    },
    {
      "cell_type": "code",
      "execution_count": null,
      "metadata": {
        "id": "L9JlSdj60MRm"
      },
      "outputs": [],
      "source": [
        "# all model f1 score with different epoch\n",
        "# bargraph for all model max f1"
      ]
    },
    {
      "cell_type": "code",
      "source": [
        "# giving the manual input that I saved while testing for 8 for cnn and 9 for other all after that overfitting the model\n",
        "f1_CNN_with_epochs = [0.3395633766372874, 0.4577541259200852, 0.4860496240605409, 0.49198682000354654, 0.49726505927944287, 0.4981098518738752, 0.4923363767959374]\n",
        "f1_MLP_with_epochs = [0.3434875578270464, 0.43464428811479977, 0.4622852105708689, 0.4735987803052846, 0.4755774992339301, 0.4713097259130036, 0.46460912554829903,0.45382667371209495,0.4453193959575987]\n",
        "f1_GRU_with_epochs = [0.17840925327902196, 0.3848906173218248, 0.44595213553471785, 0.4656883377764914, 0.47809014229315155, 0.4842187043022346, 0.4869398963558118, 0.48815975121997646, 0.4877093819297985]\n",
        "f1_LSTM_with_epochs = [0.09939882618862798, 0.2883086795031518, 0.40676217020866046, 0.44571897495191243, 0.46505950545173497, 0.4737860518356896, 0.4785761329376141, 0.4819404084156997, 0.4842786587426964]\n"
      ],
      "metadata": {
        "id": "f5lpw4cmVhAd"
      },
      "execution_count": null,
      "outputs": []
    },
    {
      "cell_type": "code",
      "source": [
        "f1_max_cnn = max(f1_CNN_with_epochs)\n",
        "f1_max_MLP = max(f1_MLP_with_epochs)\n",
        "f1_max_GRU = max(f1_GRU_with_epochs)\n",
        "f1_max_LSTM = max(f1_LSTM_with_epochs)"
      ],
      "metadata": {
        "id": "JQG96X5MiPls"
      },
      "execution_count": null,
      "outputs": []
    },
    {
      "cell_type": "code",
      "source": [
        "plt.plot(f1_CNN_with_epochs)\n",
        "plt.plot(f1_MLP_with_epochs)\n",
        "plt.plot(f1_GRU_with_epochs)\n",
        "plt.plot(f1_LSTM_with_epochs)\n",
        "plt.plot()\n",
        "plt.title('F1 score for different models')\n",
        "plt.ylabel('f1')\n",
        "plt.xlabel('epoch')\n",
        "plt.legend(['CNN','MLP', 'GRU','LSTM'], loc='lower right')\n",
        "plt.show()"
      ],
      "metadata": {
        "colab": {
          "base_uri": "https://localhost:8080/",
          "height": 295
        },
        "id": "w3KYFrOliYcc",
        "outputId": "5bea3a74-1920-49c0-a759-640416c7949d"
      },
      "execution_count": null,
      "outputs": [
        {
          "output_type": "display_data",
          "data": {
            "text/plain": [
              "<Figure size 432x288 with 1 Axes>"
            ],
            "image/png": "[encoded data removed]"
          },
          "metadata": {
            "needs_background": "light"
          }
        }
      ]
    },
    {
      "cell_type": "code",
      "source": [
        "# depict illustration\n",
        "plt.figure(figsize=(6,6))\n",
        "colors_list = ['#7eb54e','Blue', 'Orange', 'Purple']\n",
        "list_name = ['CNN','MLP','GRU','LSTM']\n",
        "list_result = [f1_max_cnn,f1_max_MLP,f1_max_GRU,f1_max_LSTM]\n",
        "graph = plt.bar(list_name,list_result, color = colors_list)\n",
        "plt.title('F1 score for different Models')\n",
        " \n",
        "i = 0\n",
        "for p in graph:\n",
        "    width = p.get_width()\n",
        "    height = p.get_height()\n",
        "    x, y = p.get_xy()\n",
        "    plt.text(x+width/2,\n",
        "             y+height*1.01,\n",
        "             'f1 = '+ str(int(list_result[i]*10000)/10000),\n",
        "             ha='center',\n",
        "             weight='bold')\n",
        "    i+=1\n",
        "plt.show()"
      ],
      "metadata": {
        "colab": {
          "base_uri": "https://localhost:8080/",
          "height": 390
        },
        "id": "IOGvFpepofb5",
        "outputId": "d4b608c0-0473-4ffe-ce0f-a5a642f0ec3c"
      },
      "execution_count": null,
      "outputs": [
        {
          "output_type": "display_data",
          "data": {
            "text/plain": [
              "<Figure size 432x432 with 1 Axes>"
            ],
            "image/png": "[encoded data removed]"
          },
          "metadata": {
            "needs_background": "light"
          }
        }
      ]
    },
    {
      "cell_type": "markdown",
      "source": [
        "**CNN gives the best result which is 0.4755**"
      ],
      "metadata": {
        "id": "DmbbkKh7lMKp"
      }
    },
    {
      "cell_type": "code",
      "source": [],
      "metadata": {
        "id": "ysy3y0H3l7Jm"
      },
      "execution_count": null,
      "outputs": []
    }
  ],
  "metadata": {
    "colab": {
      "machine_shape": "hm",
      "provenance": []
    },
    "gpuClass": "standard",
    "kernelspec": {
      "display_name": "Python 3",
      "name": "python3"
    },
    "language_info": {
      "name": "python"
    },
    "accelerator": "TPU"
  },
  "nbformat": 4,
  "nbformat_minor": 0
}